{
  "nbformat": 4,
  "nbformat_minor": 0,
  "metadata": {
    "colab": {
      "name": "Copy of Prepare_Data.ipynb",
      "provenance": [],
      "collapsed_sections": []
    },
    "kernelspec": {
      "name": "python3",
      "display_name": "Python 3"
    },
    "accelerator": "GPU"
  },
  "cells": [
    {
      "cell_type": "markdown",
      "metadata": {
        "id": "lVV58sU8WCYy"
      },
      "source": [
        "# Importing Libraries"
      ]
    },
    {
      "cell_type": "code",
      "metadata": {
        "id": "Kbl7tDkd1fBj"
      },
      "source": [
        "basePath = '/content/drive/MyDrive/BP_And_Speech_Analysis/';\r\n",
        "\r\n",
        "import os\r\n",
        "import numpy as np\r\n",
        "import pandas as pd\r\n",
        "import matplotlib.pyplot as plt\r\n",
        "from matplotlib.ticker import MaxNLocator\r\n",
        "\r\n",
        "from sklearn.preprocessing import LabelBinarizer\r\n",
        "from sklearn.preprocessing import StandardScaler\r\n",
        "\r\n",
        "from IPython.display import display "
      ],
      "execution_count": null,
      "outputs": []
    },
    {
      "cell_type": "markdown",
      "metadata": {
        "id": "BCt_IHNPVumU"
      },
      "source": [
        "# Importing Patient Meta Data and Basic Preprocessing of Dataframe"
      ]
    },
    {
      "cell_type": "code",
      "metadata": {
        "id": "fdEmL1_L0XUg"
      },
      "source": [
        "directory = \"PreprocessedData/\"\r\n",
        "#Reading the patient data\r\n",
        "patientTrain = pd.read_csv(basePath + directory + 'patientTrain.csv');\r\n",
        "trainFileNames = patientTrain[\"FileName\"];\r\n",
        "patientTest = pd.read_csv(basePath + directory + 'patientTest.csv');\r\n",
        "testFileNames = patientTest[\"FileName\"];\r\n",
        "\r\n",
        "#Combining the train and test meta data for basic preprocessing\r\n",
        "testIndex = patientTrain.shape[0];\r\n",
        "Combined = patientTrain.append(patientTest);\r\n",
        "\r\n",
        "\r\n",
        "Combined = Combined.drop(columns= [\"FileName\", \"HeartbeatRate\"])\r\n",
        "dtype_dict = {'Gender' : 'category',\r\n",
        "              'Age' : 'float64',\r\n",
        "              'Weight': 'float64',\r\n",
        "              'Size' : 'float64',\r\n",
        "              'SystolicBP': 'float64',\r\n",
        "              'DiastolicBP': 'float64'};\r\n",
        "Combined = Combined.astype(dtype_dict);\r\n",
        "Combined.rename(columns= {'Size' : 'Height'}, inplace=True);\r\n",
        "\r\n",
        "\r\n",
        "#One-hot encoding categorical feature 'Gender'\r\n",
        "genderBinarizer = LabelBinarizer().fit(Combined[\"Gender\"])\r\n",
        "Combined[\"Gender\"] = genderBinarizer.transform(Combined[\"Gender\"])\r\n",
        "\r\n",
        "#Separating the data back into test and train dataframes\r\n",
        "patientTrain = Combined.iloc[0:testIndex];\r\n",
        "patientTest = Combined.iloc[testIndex : ];\r\n",
        "\r\n",
        "#Separating predictors and response variables\r\n",
        "Xtrain = patientTrain[[\"Gender\", \"Age\", \"Weight\", \"Height\"]];\r\n",
        "Ytrain = patientTrain[[\"SystolicBP\", \"DiastolicBP\"]];\r\n",
        "\r\n",
        "Xtest = patientTest[[\"Gender\", \"Age\", \"Weight\", \"Height\"]];\r\n",
        "Ytest = patientTest[[\"SystolicBP\", \"DiastolicBP\"]];\r\n",
        "\r\n",
        "#Separating the predictors into continuous and categorical features inorder to  \r\n",
        "#standardize the continuous features separately\r\n",
        "continuous = [\"Age\", \"Weight\", \"Height\"];\r\n",
        "categorical = [\"Gender\"];\r\n",
        "\r\n",
        "trainCategorical = Xtrain[categorical];\r\n",
        "trainContinuous = Xtrain[continuous];\r\n",
        "\r\n",
        "testCategorical = Xtest[categorical];\r\n",
        "testContinuous = Xtest[continuous];\r\n",
        "\r\n",
        "#Standardization of continuous features\r\n",
        "Xscaler = StandardScaler().fit(trainContinuous);\r\n",
        "trainContinuous = Xscaler.transform(trainContinuous);\r\n",
        "testContinuous = Xscaler.transform(testContinuous);\r\n",
        "\r\n",
        "#Combining the predictors\r\n",
        "Xtrain = np.hstack((trainContinuous,  trainCategorical.to_numpy()));\r\n",
        "Xtest = np.hstack((testContinuous, testCategorical.to_numpy()));\r\n",
        "\r\n",
        "#Standardizing Response Variables\r\n",
        "Yscaler = StandardScaler().fit(Ytrain);\r\n",
        "Ytrain = Yscaler.transform(Ytrain);\r\n",
        "Ytest = Yscaler.transform(Ytest);\r\n"
      ],
      "execution_count": null,
      "outputs": []
    },
    {
      "cell_type": "markdown",
      "metadata": {
        "id": "Mdo_5MlPVNjy"
      },
      "source": [
        "# Data Visualization Section\r\n",
        "\r\n",
        "Plots to gain better understanding of the data in the tables"
      ]
    },
    {
      "cell_type": "code",
      "metadata": {
        "colab": {
          "base_uri": "https://localhost:8080/",
          "height": 265
        },
        "id": "rJkbjMR8TFgo",
        "outputId": "5607ea9d-5105-4ca0-fcd8-16484ed18665"
      },
      "source": [
        "#Plotting Diastolic Blood Pressure Distribution\r\n",
        "ax = plt.figure().gca()\r\n",
        "ax.yaxis.set_major_locator(MaxNLocator(integer=True))\r\n",
        "plt.hist(patientTrain[\"DiastolicBP\"]);"
      ],
      "execution_count": null,
      "outputs": [
        {
          "output_type": "display_data",
          "data": {
            "image/png": "[encoded data removed]",
            "text/plain": [
              "<Figure size 432x288 with 1 Axes>"
            ]
          },
          "metadata": {
            "tags": [],
            "needs_background": "light"
          }
        }
      ]
    },
    {
      "cell_type": "code",
      "metadata": {
        "colab": {
          "base_uri": "https://localhost:8080/",
          "height": 265
        },
        "id": "_8jaHvDv8FiX",
        "outputId": "50174a6f-6016-436f-9fa2-95f785045a7d"
      },
      "source": [
        "#After preprocessing\r\n",
        "plt.hist(Ytrain[:, 1]);"
      ],
      "execution_count": null,
      "outputs": [
        {
          "output_type": "display_data",
          "data": {
            "image/png": "[encoded data removed]",
            "text/plain": [
              "<Figure size 432x288 with 1 Axes>"
            ]
          },
          "metadata": {
            "tags": [],
            "needs_background": "light"
          }
        }
      ]
    },
    {
      "cell_type": "markdown",
      "metadata": {
        "id": "mMfGB90BWVTI"
      },
      "source": [
        "# Importing the Preprocessed Audio Data\r\n",
        "\r\n",
        "In this section, we load the audio data of the patients. The .csv files were obtained after preprocessing the .wav files, extracting features, and normalizing the audio features using MATLAB."
      ]
    },
    {
      "cell_type": "code",
      "metadata": {
        "colab": {
          "base_uri": "https://localhost:8080/"
        },
        "id": "HwX2L7ZT-rpz",
        "outputId": "4f012d33-f933-4c5d-c77b-e0e6f6f501a6"
      },
      "source": [
        "numTrain = Xtrain.shape[0];\r\n",
        "numTest = Xtest.shape[0];\r\n",
        "\r\n",
        "#Using pre-defined the audioTrain matrix to speed up loading.\r\n",
        "#On using a list, its size will have to change dynamically, which will slow down\r\n",
        "#the loading\r\n",
        "directory = \"PreprocessedData/TrainFiles/\";\r\n",
        "audioTrain = np.zeros([numTrain, 512, 711], dtype = np.float64);\r\n",
        "for i in range(numTrain):\r\n",
        "  audioTrain[i, :, :] = pd.read_csv(basePath + directory + trainFileNames[i] + \".csv\", header = None).to_numpy();\r\n",
        "  #Remember to set header = None, otherwise the first row of the matrix will be assumed to contain column names,\r\n",
        "  # and hence will be neglected\r\n",
        "\r\n",
        "#Similarly, loading the test audio feature files\r\n",
        "directory = \"PreprocessedData/TestFiles/\";\r\n",
        "audioTest = np.zeros([numTest, 512, 711], dtype = np.float64);\r\n",
        "for i in range(numTest):\r\n",
        "  audioTest[i, :, :] = pd.read_csv(basePath + directory + testFileNames[i] + \".csv\", header = None).to_numpy();\r\n",
        "\r\n",
        "#Adding dummy channels\r\n",
        "audioTrain = audioTrain[..., np.newaxis];\r\n",
        "audioTest = audioTest[..., np.newaxis];\r\n",
        "\r\n",
        "#Checking whether the data is loaded into correct shapes or not\r\n",
        "print(\"Train file shapes: \\n\", audioTrain[0].shape);\r\n",
        "print(audioTrain.shape);\r\n",
        "print(\"Train file shapes: \\n\", audioTest[0].shape);\r\n",
        "print(audioTest.shape);"
      ],
      "execution_count": null,
      "outputs": [
        {
          "output_type": "stream",
          "text": [
            "Train file shapes: \n",
            " (512, 711, 1)\n",
            "(100, 512, 711, 1)\n",
            "Train file shapes: \n",
            " (512, 711, 1)\n",
            "(14, 512, 711, 1)\n"
          ],
          "name": "stdout"
        }
      ]
    },
    {
      "cell_type": "markdown",
      "metadata": {
        "id": "UHuYaqztdRTN"
      },
      "source": [
        "# Developing a Multi-Input Neural Network\r\n",
        "\r\n",
        "Our model should accept numeric, categorical, and image-like (audio) features. So we develop a neural network with 2 branches:\r\n",
        "\r\n",
        "1.   Convolutional Neural Network (CNN)\r\n",
        "2.   Multi Layer Perceptron (MLP)\r\n",
        "\r\n",
        "The output of the branches are concatenated and fed to a MLP with a Regression Layer at the end.\r\n",
        "\r\n",
        "This is a multi-output regression since both Diastolic and Systolic blood presures have to be predicted.\r\n",
        "\r\n",
        "Reference: [https://www.pyimagesearch.com/2019/02/04/keras-multiple-inputs-and-mixed-data/](https://)"
      ]
    },
    {
      "cell_type": "code",
      "metadata": {
        "id": "3HguC7x5dTm2"
      },
      "source": [
        "#Importing necessary packages\r\n",
        "from tensorflow.keras.models import Sequential\r\n",
        "from tensorflow.keras.layers import BatchNormalization\r\n",
        "from tensorflow.keras.layers import Conv2D\r\n",
        "from tensorflow.keras.layers import MaxPooling2D\r\n",
        "from tensorflow.keras.layers import Activation\r\n",
        "from tensorflow.keras.layers import Dropout\r\n",
        "from tensorflow.keras.layers import Dense\r\n",
        "from tensorflow.keras.layers import Flatten\r\n",
        "from tensorflow.keras.layers import Input\r\n",
        "from tensorflow.keras.layers import concatenate\r\n",
        "from tensorflow.keras.models import Model\r\n",
        "\r\n",
        "from tensorflow.keras.optimizers import Adam\r\n",
        "from tensorflow.keras.losses import MeanSquaredError\r\n",
        "from keras.utils.vis_utils import plot_model"
      ],
      "execution_count": null,
      "outputs": []
    },
    {
      "cell_type": "code",
      "metadata": {
        "id": "Jdts0EWHdWt_"
      },
      "source": [
        "#Defining a function to generate the MLP branch of the network\r\n",
        "#State: 4(in) -> 8 -> 4(out)\r\n",
        "def create_mlp(input_dim, regress=False) :\r\n",
        "  \r\n",
        "  model = Sequential();\r\n",
        "  model.add(Dense(8, input_dim=input_dim, activation=\"relu\"));\r\n",
        "  model.add(Dense(4, activation=\"relu\"));\r\n",
        "\r\n",
        "  if(regress) :\r\n",
        "    model.add(Dense(2, activation=\"linear\"));\r\n",
        "\r\n",
        "  return model;  "
      ],
      "execution_count": null,
      "outputs": []
    },
    {
      "cell_type": "code",
      "metadata": {
        "id": "4UUBNI8cdbmv"
      },
      "source": [
        "#Defining a function to generate the CNN brnach of the network\r\n",
        "def create_cnn(height, width, depth, filters=(16, 32, 64, 128), regress=False):\r\n",
        "\r\n",
        "\t# initialize the input shape and channel dimension, assuming\r\n",
        "\t# TensorFlow/channels-last ordering\r\n",
        "\tinputShape = (height, width, depth)\r\n",
        "\tchanDim = -1\r\n",
        "\r\n",
        "\t# define the model input\r\n",
        "\tinputs = Input(shape=inputShape)\r\n",
        " \r\n",
        "\t# loop over the number of filters\r\n",
        "\tfor (i, f) in enumerate(filters):\r\n",
        "   \r\n",
        "\t\t# if this is the first CONV layer then set the input\r\n",
        "\t\t# appropriately\r\n",
        "\t\tif i == 0:\r\n",
        "\t\t\tx = inputs\r\n",
        "\r\n",
        "\t\t# CONV => RELU => BN => POOL\r\n",
        "\t\tx = Conv2D(f, (3, 3), padding=\"same\")(x)\r\n",
        "\t\tx = Activation(\"relu\")(x)\r\n",
        "\t\tx = BatchNormalization(axis=chanDim)(x)\r\n",
        "\t\tx = MaxPooling2D(pool_size=(2, 2))(x)\r\n",
        "  \r\n",
        "  # flatten the volume, then FC => RELU => BN => DROPOUT\r\n",
        "\tx = Flatten()(x)\r\n",
        "\tx = Dense(16)(x)\r\n",
        "\tx = Activation(\"relu\")(x)\r\n",
        "\tx = BatchNormalization(axis=chanDim)(x)\r\n",
        "\tx = Dropout(0.5)(x)\r\n",
        " \r\n",
        "\t# apply another FC layer, this one to match the number of nodes\r\n",
        "\t# coming out of the MLP\r\n",
        "\tx = Dense(4)(x)\r\n",
        "\tx = Activation(\"relu\")(x)\r\n",
        " \r\n",
        "\t# check to see if the regression node should be added\r\n",
        "\tif regress:\r\n",
        "\t\tx = Dense(2, activation=\"linear\")(x)\r\n",
        "  \r\n",
        "\t# construct the CNN\r\n",
        "\tmodel = Model(inputs, x)\r\n",
        "\t# return the CNN\r\n",
        "\treturn model"
      ],
      "execution_count": null,
      "outputs": []
    },
    {
      "cell_type": "code",
      "metadata": {
        "id": "FMSQrCVVdeZT"
      },
      "source": [
        "# create the MLP and CNN models\r\n",
        "mlp = create_mlp(4, regress=False)\r\n",
        "cnn = create_cnn(512, 711, 1, regress=False)\r\n",
        "\r\n",
        "# create the input to our final set of layers as the *output* of both\r\n",
        "# the MLP and CNN\r\n",
        "combinedInput = concatenate([mlp.output, cnn.output])\r\n",
        "\r\n",
        "# our final FC layer head will have two dense layers, the final one\r\n",
        "# being our regression head\r\n",
        "x = Dense(4, activation=\"relu\")(combinedInput)\r\n",
        "x = Dense(2, activation=\"linear\")(x)\r\n",
        "\r\n",
        "# our final model will accept categorical/numerical data on the MLP\r\n",
        "# input and audio feature matrices on the CNN input, outputting 2 values (Diastolic and\r\n",
        "#Systolic Blood Pressures) \r\n",
        "model = Model(inputs=[mlp.input, cnn.input], outputs=x)"
      ],
      "execution_count": null,
      "outputs": []
    },
    {
      "cell_type": "code",
      "metadata": {
        "id": "HANo11DrhGIs"
      },
      "source": [
        "# compile the model using mean absolute percentage error as our loss\r\n",
        "mse = MeanSquaredError()\r\n",
        "opt = Adam(lr=1e-3, decay=1e-3 / 200)\r\n",
        "model.compile(loss='mae', optimizer='adam')"
      ],
      "execution_count": null,
      "outputs": []
    },
    {
      "cell_type": "code",
      "metadata": {
        "colab": {
          "base_uri": "https://localhost:8080/"
        },
        "id": "XMP_MqH3hl9D",
        "outputId": "6f7d86f2-2b0b-4d6b-f46a-9ddc9f834d97"
      },
      "source": [
        "# train the model\r\n",
        "print(\"[INFO] training model...\")\r\n",
        "model.fit(\r\n",
        "\tx=[Xtrain, audioTrain], y=Ytrain,\r\n",
        "\tvalidation_data=([Xtest, audioTest], Ytest),\r\n",
        "\tepochs=100, batch_size=None)\r\n",
        "# make predictions on the testing data\r\n",
        "print(\"[INFO] predicting Blood Pressures...\")\r\n",
        "preds = model.predict([Xtest, audioTest])"
      ],
      "execution_count": null,
      "outputs": [
        {
          "output_type": "stream",
          "text": [
            "[INFO] training model...\n",
            "Epoch 1/100\n",
            "4/4 [==============================] - 10s 491ms/step - loss: 0.9533 - val_loss: 1.0472\n",
            "Epoch 2/100\n",
            "4/4 [==============================] - 1s 191ms/step - loss: 0.8972 - val_loss: 0.9662\n",
            "Epoch 3/100\n",
            "4/4 [==============================] - 1s 227ms/step - loss: 0.8467 - val_loss: 0.9605\n",
            "Epoch 4/100\n",
            "4/4 [==============================] - 1s 193ms/step - loss: 0.8677 - val_loss: 0.9809\n",
            "Epoch 5/100\n",
            "4/4 [==============================] - 1s 190ms/step - loss: 0.8970 - val_loss: 1.0495\n",
            "Epoch 6/100\n",
            "4/4 [==============================] - 1s 190ms/step - loss: 0.8394 - val_loss: 1.1638\n",
            "Epoch 7/100\n",
            "4/4 [==============================] - 1s 190ms/step - loss: 0.8394 - val_loss: 1.2408\n",
            "Epoch 8/100\n",
            "4/4 [==============================] - 1s 190ms/step - loss: 0.8408 - val_loss: 1.3630\n",
            "Epoch 9/100\n",
            "4/4 [==============================] - 1s 190ms/step - loss: 0.7862 - val_loss: 1.5673\n",
            "Epoch 10/100\n",
            "4/4 [==============================] - 1s 189ms/step - loss: 0.8094 - val_loss: 1.6938\n",
            "Epoch 11/100\n",
            "4/4 [==============================] - 1s 191ms/step - loss: 0.8122 - val_loss: 1.6585\n",
            "Epoch 12/100\n",
            "4/4 [==============================] - 1s 190ms/step - loss: 0.8056 - val_loss: 1.6703\n",
            "Epoch 13/100\n",
            "4/4 [==============================] - 1s 187ms/step - loss: 0.7973 - val_loss: 1.7717\n",
            "Epoch 14/100\n",
            "4/4 [==============================] - 1s 188ms/step - loss: 0.7752 - val_loss: 1.9696\n",
            "Epoch 15/100\n",
            "4/4 [==============================] - 1s 189ms/step - loss: 0.7909 - val_loss: 2.1510\n",
            "Epoch 16/100\n",
            "4/4 [==============================] - 1s 191ms/step - loss: 0.8007 - val_loss: 2.3558\n",
            "Epoch 17/100\n",
            "4/4 [==============================] - 1s 188ms/step - loss: 0.7624 - val_loss: 2.5789\n",
            "Epoch 18/100\n",
            "4/4 [==============================] - 1s 187ms/step - loss: 0.8133 - val_loss: 2.9116\n",
            "Epoch 19/100\n",
            "4/4 [==============================] - 1s 192ms/step - loss: 0.7953 - val_loss: 3.0539\n",
            "Epoch 20/100\n",
            "4/4 [==============================] - 1s 190ms/step - loss: 0.8087 - val_loss: 3.3583\n",
            "Epoch 21/100\n",
            "4/4 [==============================] - 1s 186ms/step - loss: 0.7420 - val_loss: 3.9273\n",
            "Epoch 22/100\n",
            "4/4 [==============================] - 1s 188ms/step - loss: 0.7568 - val_loss: 4.3335\n",
            "Epoch 23/100\n",
            "4/4 [==============================] - 1s 194ms/step - loss: 0.7982 - val_loss: 4.0887\n",
            "Epoch 24/100\n",
            "4/4 [==============================] - 1s 190ms/step - loss: 0.7501 - val_loss: 3.7555\n",
            "Epoch 25/100\n",
            "4/4 [==============================] - 1s 194ms/step - loss: 0.7481 - val_loss: 3.5959\n",
            "Epoch 26/100\n",
            "4/4 [==============================] - 1s 187ms/step - loss: 0.7725 - val_loss: 3.4708\n",
            "Epoch 27/100\n",
            "4/4 [==============================] - 1s 188ms/step - loss: 0.8045 - val_loss: 3.0780\n",
            "Epoch 28/100\n",
            "4/4 [==============================] - 1s 191ms/step - loss: 0.7841 - val_loss: 2.8013\n",
            "Epoch 29/100\n",
            "4/4 [==============================] - 1s 190ms/step - loss: 0.7764 - val_loss: 2.3134\n",
            "Epoch 30/100\n",
            "4/4 [==============================] - 1s 192ms/step - loss: 0.7602 - val_loss: 1.9439\n",
            "Epoch 31/100\n",
            "4/4 [==============================] - 1s 188ms/step - loss: 0.7616 - val_loss: 1.8943\n",
            "Epoch 32/100\n",
            "4/4 [==============================] - 1s 190ms/step - loss: 0.7530 - val_loss: 1.8958\n",
            "Epoch 33/100\n",
            "4/4 [==============================] - 1s 194ms/step - loss: 0.7589 - val_loss: 1.7549\n",
            "Epoch 34/100\n",
            "4/4 [==============================] - 1s 191ms/step - loss: 0.7266 - val_loss: 1.2433\n",
            "Epoch 35/100\n",
            "4/4 [==============================] - 1s 192ms/step - loss: 0.7482 - val_loss: 1.2739\n",
            "Epoch 36/100\n",
            "4/4 [==============================] - 1s 190ms/step - loss: 0.7949 - val_loss: 1.8867\n",
            "Epoch 37/100\n",
            "4/4 [==============================] - 1s 190ms/step - loss: 0.7677 - val_loss: 3.7955\n",
            "Epoch 38/100\n",
            "4/4 [==============================] - 1s 187ms/step - loss: 0.7846 - val_loss: 4.8768\n",
            "Epoch 39/100\n",
            "4/4 [==============================] - 1s 190ms/step - loss: 0.7620 - val_loss: 5.1629\n",
            "Epoch 40/100\n",
            "4/4 [==============================] - 1s 195ms/step - loss: 0.7239 - val_loss: 4.9806\n",
            "Epoch 41/100\n",
            "4/4 [==============================] - 1s 192ms/step - loss: 0.7268 - val_loss: 4.2214\n",
            "Epoch 42/100\n",
            "4/4 [==============================] - 1s 195ms/step - loss: 0.7250 - val_loss: 3.6214\n",
            "Epoch 43/100\n",
            "4/4 [==============================] - 1s 193ms/step - loss: 0.7458 - val_loss: 3.2151\n",
            "Epoch 44/100\n",
            "4/4 [==============================] - 1s 189ms/step - loss: 0.7977 - val_loss: 2.8752\n",
            "Epoch 45/100\n",
            "4/4 [==============================] - 1s 191ms/step - loss: 0.7327 - val_loss: 2.2460\n",
            "Epoch 46/100\n",
            "4/4 [==============================] - 1s 190ms/step - loss: 0.6752 - val_loss: 2.1465\n",
            "Epoch 47/100\n",
            "4/4 [==============================] - 1s 222ms/step - loss: 0.7624 - val_loss: 2.2324\n",
            "Epoch 48/100\n",
            "4/4 [==============================] - 1s 190ms/step - loss: 0.7400 - val_loss: 2.4014\n",
            "Epoch 49/100\n",
            "4/4 [==============================] - 1s 190ms/step - loss: 0.7361 - val_loss: 2.4688\n",
            "Epoch 50/100\n",
            "4/4 [==============================] - 1s 195ms/step - loss: 0.7235 - val_loss: 2.5980\n",
            "Epoch 51/100\n",
            "4/4 [==============================] - 1s 193ms/step - loss: 0.6833 - val_loss: 2.0336\n",
            "Epoch 52/100\n",
            "4/4 [==============================] - 1s 192ms/step - loss: 0.7011 - val_loss: 2.1094\n",
            "Epoch 53/100\n",
            "4/4 [==============================] - 1s 194ms/step - loss: 0.6992 - val_loss: 2.2648\n",
            "Epoch 54/100\n",
            "4/4 [==============================] - 1s 189ms/step - loss: 0.6745 - val_loss: 2.5116\n",
            "Epoch 55/100\n",
            "4/4 [==============================] - 1s 197ms/step - loss: 0.6730 - val_loss: 2.6967\n",
            "Epoch 56/100\n",
            "4/4 [==============================] - 1s 195ms/step - loss: 0.7236 - val_loss: 3.1326\n",
            "Epoch 57/100\n",
            "4/4 [==============================] - 1s 190ms/step - loss: 0.6922 - val_loss: 3.6063\n",
            "Epoch 58/100\n",
            "4/4 [==============================] - 1s 192ms/step - loss: 0.6644 - val_loss: 3.5918\n",
            "Epoch 59/100\n",
            "4/4 [==============================] - 1s 191ms/step - loss: 0.6718 - val_loss: 3.6621\n",
            "Epoch 60/100\n",
            "4/4 [==============================] - 1s 195ms/step - loss: 0.6641 - val_loss: 3.1399\n",
            "Epoch 61/100\n",
            "4/4 [==============================] - 1s 192ms/step - loss: 0.6803 - val_loss: 2.5665\n",
            "Epoch 62/100\n",
            "4/4 [==============================] - 1s 190ms/step - loss: 0.6716 - val_loss: 1.6273\n",
            "Epoch 63/100\n",
            "4/4 [==============================] - 1s 194ms/step - loss: 0.6856 - val_loss: 1.5594\n",
            "Epoch 64/100\n",
            "4/4 [==============================] - 1s 193ms/step - loss: 0.6498 - val_loss: 1.5843\n",
            "Epoch 65/100\n",
            "4/4 [==============================] - 1s 194ms/step - loss: 0.6941 - val_loss: 1.4429\n",
            "Epoch 66/100\n",
            "4/4 [==============================] - 1s 192ms/step - loss: 0.6553 - val_loss: 1.2911\n",
            "Epoch 67/100\n",
            "4/4 [==============================] - 1s 192ms/step - loss: 0.7053 - val_loss: 1.0019\n",
            "Epoch 68/100\n",
            "4/4 [==============================] - 1s 193ms/step - loss: 0.6308 - val_loss: 1.0384\n",
            "Epoch 69/100\n",
            "4/4 [==============================] - 1s 193ms/step - loss: 0.6238 - val_loss: 1.0439\n",
            "Epoch 70/100\n",
            "4/4 [==============================] - 1s 196ms/step - loss: 0.5922 - val_loss: 1.0515\n",
            "Epoch 71/100\n",
            "4/4 [==============================] - 1s 198ms/step - loss: 0.6323 - val_loss: 1.0722\n",
            "Epoch 72/100\n",
            "4/4 [==============================] - 1s 194ms/step - loss: 0.6487 - val_loss: 1.1271\n",
            "Epoch 73/100\n",
            "4/4 [==============================] - 1s 194ms/step - loss: 0.6877 - val_loss: 1.1306\n",
            "Epoch 74/100\n",
            "4/4 [==============================] - 1s 192ms/step - loss: 0.6751 - val_loss: 1.0992\n",
            "Epoch 75/100\n",
            "4/4 [==============================] - 1s 198ms/step - loss: 0.6389 - val_loss: 1.0921\n",
            "Epoch 76/100\n",
            "4/4 [==============================] - 1s 193ms/step - loss: 0.6152 - val_loss: 1.0740\n",
            "Epoch 77/100\n",
            "4/4 [==============================] - 1s 197ms/step - loss: 0.6427 - val_loss: 1.0903\n",
            "Epoch 78/100\n",
            "4/4 [==============================] - 1s 190ms/step - loss: 0.6081 - val_loss: 1.1070\n",
            "Epoch 79/100\n",
            "4/4 [==============================] - 1s 193ms/step - loss: 0.5779 - val_loss: 1.1021\n",
            "Epoch 80/100\n",
            "4/4 [==============================] - 1s 195ms/step - loss: 0.6546 - val_loss: 1.1024\n",
            "Epoch 81/100\n",
            "4/4 [==============================] - 1s 197ms/step - loss: 0.6441 - val_loss: 1.1232\n",
            "Epoch 82/100\n",
            "4/4 [==============================] - 1s 196ms/step - loss: 0.6032 - val_loss: 1.1500\n",
            "Epoch 83/100\n",
            "4/4 [==============================] - 1s 196ms/step - loss: 0.5850 - val_loss: 1.1515\n",
            "Epoch 84/100\n",
            "4/4 [==============================] - 1s 193ms/step - loss: 0.5849 - val_loss: 1.1527\n",
            "Epoch 85/100\n",
            "4/4 [==============================] - 1s 193ms/step - loss: 0.6338 - val_loss: 1.1451\n",
            "Epoch 86/100\n",
            "4/4 [==============================] - 1s 199ms/step - loss: 0.5942 - val_loss: 1.1370\n",
            "Epoch 87/100\n",
            "4/4 [==============================] - 1s 197ms/step - loss: 0.5851 - val_loss: 1.1442\n",
            "Epoch 88/100\n",
            "4/4 [==============================] - 1s 195ms/step - loss: 0.6095 - val_loss: 1.1643\n",
            "Epoch 89/100\n",
            "4/4 [==============================] - 1s 197ms/step - loss: 0.5930 - val_loss: 1.1629\n",
            "Epoch 90/100\n",
            "4/4 [==============================] - 1s 192ms/step - loss: 0.5942 - val_loss: 1.1654\n",
            "Epoch 91/100\n",
            "4/4 [==============================] - 1s 191ms/step - loss: 0.6082 - val_loss: 1.1422\n",
            "Epoch 92/100\n",
            "4/4 [==============================] - 1s 195ms/step - loss: 0.5808 - val_loss: 4.1207\n",
            "Epoch 93/100\n",
            "4/4 [==============================] - 1s 198ms/step - loss: 0.6590 - val_loss: 1.4456\n",
            "Epoch 94/100\n",
            "4/4 [==============================] - 1s 198ms/step - loss: 0.6350 - val_loss: 1.2744\n",
            "Epoch 95/100\n",
            "4/4 [==============================] - 1s 194ms/step - loss: 0.6179 - val_loss: 1.2266\n",
            "Epoch 96/100\n",
            "4/4 [==============================] - 1s 197ms/step - loss: 0.5903 - val_loss: 1.2441\n",
            "Epoch 97/100\n",
            "4/4 [==============================] - 1s 196ms/step - loss: 0.6066 - val_loss: 1.2464\n",
            "Epoch 98/100\n",
            "4/4 [==============================] - 1s 198ms/step - loss: 0.5600 - val_loss: 1.2374\n",
            "Epoch 99/100\n",
            "4/4 [==============================] - 1s 193ms/step - loss: 0.5986 - val_loss: 1.1992\n",
            "Epoch 100/100\n",
            "4/4 [==============================] - 1s 193ms/step - loss: 0.5628 - val_loss: 1.1685\n",
            "[INFO] predicting Blood Pressures...\n"
          ],
          "name": "stdout"
        }
      ]
    },
    {
      "cell_type": "code",
      "metadata": {
        "colab": {
          "base_uri": "https://localhost:8080/",
          "height": 468
        },
        "id": "e2BIu8U1lFsf",
        "outputId": "08e9824a-a9fb-44b6-ccbe-9564315465be"
      },
      "source": [
        "deviations = Yscaler.inverse_transform(Ytest) - Yscaler.inverse_transform(preds)\r\n",
        "performance_eval_table = pd.DataFrame(np.hstack((Yscaler.inverse_transform(Ytest), Yscaler.inverse_transform(preds), deviations)), columns=[\"Diastolic\", \"Systolic\", \"Pred_Diastolic\", \"Pred_Systolic\", \"Dev_Diastolic\", \"Dev_Systolic\"])\r\n",
        "display(performance_eval_table)"
      ],
      "execution_count": null,
      "outputs": [
        {
          "output_type": "display_data",
          "data": {
            "text/html": [
              "<div>\n",
              "<style scoped>\n",
              "    .dataframe tbody tr th:only-of-type {\n",
              "        vertical-align: middle;\n",
              "    }\n",
              "\n",
              "    .dataframe tbody tr th {\n",
              "        vertical-align: top;\n",
              "    }\n",
              "\n",
              "    .dataframe thead th {\n",
              "        text-align: right;\n",
              "    }\n",
              "</style>\n",
              "<table border=\"1\" class=\"dataframe\">\n",
              "  <thead>\n",
              "    <tr style=\"text-align: right;\">\n",
              "      <th></th>\n",
              "      <th>Diastolic</th>\n",
              "      <th>Systolic</th>\n",
              "      <th>Pred_Diastolic</th>\n",
              "      <th>Pred_Systolic</th>\n",
              "      <th>Dev_Diastolic</th>\n",
              "      <th>Dev_Systolic</th>\n",
              "    </tr>\n",
              "  </thead>\n",
              "  <tbody>\n",
              "    <tr>\n",
              "      <th>0</th>\n",
              "      <td>136.0</td>\n",
              "      <td>112.0</td>\n",
              "      <td>106.754173</td>\n",
              "      <td>65.627159</td>\n",
              "      <td>29.245827</td>\n",
              "      <td>46.372841</td>\n",
              "    </tr>\n",
              "    <tr>\n",
              "      <th>1</th>\n",
              "      <td>114.0</td>\n",
              "      <td>75.0</td>\n",
              "      <td>142.630493</td>\n",
              "      <td>80.515320</td>\n",
              "      <td>-28.630493</td>\n",
              "      <td>-5.515320</td>\n",
              "    </tr>\n",
              "    <tr>\n",
              "      <th>2</th>\n",
              "      <td>104.0</td>\n",
              "      <td>59.0</td>\n",
              "      <td>138.598679</td>\n",
              "      <td>70.335442</td>\n",
              "      <td>-34.598679</td>\n",
              "      <td>-11.335442</td>\n",
              "    </tr>\n",
              "    <tr>\n",
              "      <th>3</th>\n",
              "      <td>138.0</td>\n",
              "      <td>73.0</td>\n",
              "      <td>115.126808</td>\n",
              "      <td>65.815018</td>\n",
              "      <td>22.873192</td>\n",
              "      <td>7.184982</td>\n",
              "    </tr>\n",
              "    <tr>\n",
              "      <th>4</th>\n",
              "      <td>106.0</td>\n",
              "      <td>50.0</td>\n",
              "      <td>116.283974</td>\n",
              "      <td>65.840981</td>\n",
              "      <td>-10.283974</td>\n",
              "      <td>-15.840981</td>\n",
              "    </tr>\n",
              "    <tr>\n",
              "      <th>5</th>\n",
              "      <td>119.0</td>\n",
              "      <td>68.0</td>\n",
              "      <td>120.151680</td>\n",
              "      <td>68.697052</td>\n",
              "      <td>-1.151680</td>\n",
              "      <td>-0.697052</td>\n",
              "    </tr>\n",
              "    <tr>\n",
              "      <th>6</th>\n",
              "      <td>105.0</td>\n",
              "      <td>54.0</td>\n",
              "      <td>123.221962</td>\n",
              "      <td>68.324501</td>\n",
              "      <td>-18.221962</td>\n",
              "      <td>-14.324501</td>\n",
              "    </tr>\n",
              "    <tr>\n",
              "      <th>7</th>\n",
              "      <td>137.0</td>\n",
              "      <td>80.0</td>\n",
              "      <td>100.016891</td>\n",
              "      <td>65.475998</td>\n",
              "      <td>36.983109</td>\n",
              "      <td>14.524002</td>\n",
              "    </tr>\n",
              "    <tr>\n",
              "      <th>8</th>\n",
              "      <td>149.0</td>\n",
              "      <td>68.0</td>\n",
              "      <td>105.441055</td>\n",
              "      <td>65.597694</td>\n",
              "      <td>43.558945</td>\n",
              "      <td>2.402306</td>\n",
              "    </tr>\n",
              "    <tr>\n",
              "      <th>9</th>\n",
              "      <td>111.0</td>\n",
              "      <td>59.0</td>\n",
              "      <td>112.240417</td>\n",
              "      <td>72.229561</td>\n",
              "      <td>-1.240417</td>\n",
              "      <td>-13.229561</td>\n",
              "    </tr>\n",
              "    <tr>\n",
              "      <th>10</th>\n",
              "      <td>134.0</td>\n",
              "      <td>68.0</td>\n",
              "      <td>113.123199</td>\n",
              "      <td>65.770065</td>\n",
              "      <td>20.876801</td>\n",
              "      <td>2.229935</td>\n",
              "    </tr>\n",
              "    <tr>\n",
              "      <th>11</th>\n",
              "      <td>90.0</td>\n",
              "      <td>49.0</td>\n",
              "      <td>130.740662</td>\n",
              "      <td>73.761055</td>\n",
              "      <td>-40.740662</td>\n",
              "      <td>-24.761055</td>\n",
              "    </tr>\n",
              "    <tr>\n",
              "      <th>12</th>\n",
              "      <td>109.0</td>\n",
              "      <td>65.0</td>\n",
              "      <td>120.989395</td>\n",
              "      <td>65.957207</td>\n",
              "      <td>-11.989395</td>\n",
              "      <td>-0.957207</td>\n",
              "    </tr>\n",
              "    <tr>\n",
              "      <th>13</th>\n",
              "      <td>109.0</td>\n",
              "      <td>69.0</td>\n",
              "      <td>102.090698</td>\n",
              "      <td>65.522522</td>\n",
              "      <td>6.909302</td>\n",
              "      <td>3.477478</td>\n",
              "    </tr>\n",
              "  </tbody>\n",
              "</table>\n",
              "</div>"
            ],
            "text/plain": [
              "    Diastolic  Systolic  ...  Dev_Diastolic  Dev_Systolic\n",
              "0       136.0     112.0  ...      29.245827     46.372841\n",
              "1       114.0      75.0  ...     -28.630493     -5.515320\n",
              "2       104.0      59.0  ...     -34.598679    -11.335442\n",
              "3       138.0      73.0  ...      22.873192      7.184982\n",
              "4       106.0      50.0  ...     -10.283974    -15.840981\n",
              "5       119.0      68.0  ...      -1.151680     -0.697052\n",
              "6       105.0      54.0  ...     -18.221962    -14.324501\n",
              "7       137.0      80.0  ...      36.983109     14.524002\n",
              "8       149.0      68.0  ...      43.558945      2.402306\n",
              "9       111.0      59.0  ...      -1.240417    -13.229561\n",
              "10      134.0      68.0  ...      20.876801      2.229935\n",
              "11       90.0      49.0  ...     -40.740662    -24.761055\n",
              "12      109.0      65.0  ...     -11.989395     -0.957207\n",
              "13      109.0      69.0  ...       6.909302      3.477478\n",
              "\n",
              "[14 rows x 6 columns]"
            ]
          },
          "metadata": {
            "tags": []
          }
        }
      ]
    },
    {
      "cell_type": "code",
      "metadata": {
        "id": "g_vo1XadKu3o",
        "colab": {
          "base_uri": "https://localhost:8080/",
          "height": 42
        },
        "outputId": "1339cf3a-11ff-49a2-a53d-092b18065562"
      },
      "source": [
        "#model.save(basePath + \"trialModel.h5\")\r\n",
        "plot_model(model, to_file=basePath + \"network_graph.png\", show_layer_names=True, show_shapes=True, rankdir=\"LR\")"
      ],
      "execution_count": null,
      "outputs": [
        {
          "output_type": "execute_result",
          "data": {
            "image/png": "[encoded data removed]",
            "text/plain": [
              "<IPython.core.display.Image object>"
            ]
          },
          "metadata": {
            "tags": []
          },
          "execution_count": 21
        }
      ]
    }
  ]
}